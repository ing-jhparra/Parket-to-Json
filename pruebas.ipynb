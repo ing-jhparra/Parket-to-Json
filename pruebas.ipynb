{
 "cells": [
  {
   "cell_type": "code",
   "execution_count": 11,
   "metadata": {},
   "outputs": [],
   "source": [
    "import pandas as pd\n",
    "#import pyarrow as pa\n",
    "import json"
   ]
  },
  {
   "cell_type": "code",
   "execution_count": 12,
   "metadata": {},
   "outputs": [],
   "source": [
    "# Definicon de Rutas y nombre de archvios\n",
    "input_path = 'C:\\\\Users\\\\Jesus\\\\Documents\\\\proyectos\\\\Parket-to-Json\\\\input\\\\'\n",
    "output_path = 'C:\\\\Users\\\\Jesus\\\\Documents\\\\proyectos\\\\Parket-to-Json\\\\output\\\\'\n",
    "input_file = 'business.parquet'\n",
    "output_file = 'business.json'"
   ]
  },
  {
   "cell_type": "code",
   "execution_count": 18,
   "metadata": {},
   "outputs": [
    {
     "data": {
      "text/html": [
       "<div>\n",
       "<style scoped>\n",
       "    .dataframe tbody tr th:only-of-type {\n",
       "        vertical-align: middle;\n",
       "    }\n",
       "\n",
       "    .dataframe tbody tr th {\n",
       "        vertical-align: top;\n",
       "    }\n",
       "\n",
       "    .dataframe thead th {\n",
       "        text-align: right;\n",
       "    }\n",
       "</style>\n",
       "<table border=\"1\" class=\"dataframe\">\n",
       "  <thead>\n",
       "    <tr style=\"text-align: right;\">\n",
       "      <th></th>\n",
       "      <th>ID_CLIENTE</th>\n",
       "      <th>ANTIGUEDAD_MESES</th>\n",
       "      <th>TIPO_TARJETA</th>\n",
       "      <th>LINEA_CREDITO</th>\n",
       "      <th>RNG_LINEA</th>\n",
       "      <th>DEUDA_TARJETA</th>\n",
       "      <th>SEGMENTO_BANCO</th>\n",
       "      <th>AMBITO</th>\n",
       "      <th>ZONA</th>\n",
       "      <th>EDAD</th>\n",
       "      <th>SEXO</th>\n",
       "      <th>ECIVIL</th>\n",
       "      <th>Total_facturacion</th>\n",
       "      <th>Num_compras</th>\n",
       "    </tr>\n",
       "  </thead>\n",
       "  <tbody>\n",
       "    <tr>\n",
       "      <th>0</th>\n",
       "      <td>C0000001</td>\n",
       "      <td>R4. [24-MAS&gt;</td>\n",
       "      <td>CLASICA</td>\n",
       "      <td>30000</td>\n",
       "      <td>30000</td>\n",
       "      <td>0.0</td>\n",
       "      <td>SEGMENTO BRONCE</td>\n",
       "      <td>L</td>\n",
       "      <td>CALLAO</td>\n",
       "      <td>65.0</td>\n",
       "      <td>M</td>\n",
       "      <td>CASADO</td>\n",
       "      <td>478.80</td>\n",
       "      <td>1</td>\n",
       "    </tr>\n",
       "    <tr>\n",
       "      <th>1</th>\n",
       "      <td>C0000002</td>\n",
       "      <td>R4. [24-MAS&gt;</td>\n",
       "      <td>CLASICA</td>\n",
       "      <td>21000</td>\n",
       "      <td>22000</td>\n",
       "      <td>0.0</td>\n",
       "      <td>SEGMENTO ORO</td>\n",
       "      <td>L</td>\n",
       "      <td>MODERNA</td>\n",
       "      <td>67.0</td>\n",
       "      <td>F</td>\n",
       "      <td>SOLTERO</td>\n",
       "      <td>1374.15</td>\n",
       "      <td>3</td>\n",
       "    </tr>\n",
       "  </tbody>\n",
       "</table>\n",
       "</div>"
      ],
      "text/plain": [
       "  ID_CLIENTE ANTIGUEDAD_MESES TIPO_TARJETA  LINEA_CREDITO  RNG_LINEA  \\\n",
       "0   C0000001     R4. [24-MAS>      CLASICA          30000      30000   \n",
       "1   C0000002     R4. [24-MAS>      CLASICA          21000      22000   \n",
       "\n",
       "   DEUDA_TARJETA   SEGMENTO_BANCO AMBITO     ZONA  EDAD SEXO   ECIVIL  \\\n",
       "0            0.0  SEGMENTO BRONCE      L   CALLAO  65.0    M   CASADO   \n",
       "1            0.0     SEGMENTO ORO      L  MODERNA  67.0    F  SOLTERO   \n",
       "\n",
       "   Total_facturacion  Num_compras  \n",
       "0             478.80            1  \n",
       "1            1374.15            3  "
      ]
     },
     "execution_count": 18,
     "metadata": {},
     "output_type": "execute_result"
    }
   ],
   "source": [
    "# Lee el archvio parquet y lo convierte en un DataFrame\n",
    "df = pd.read_parquet(input_path + input_file)\n",
    "\n",
    "columnas = df.columns\n",
    "\n",
    "df.head(2)\n"
   ]
  },
  {
   "cell_type": "code",
   "execution_count": 31,
   "metadata": {},
   "outputs": [],
   "source": [
    "def convertir_clave_valor(tupla):\n",
    "    clave, valor = tupla\n",
    "    if type(valor) == int:\n",
    "        return f\"'{clave}':{valor}\"\n",
    "    else :\n",
    "        return f\"'{clave}':'{valor}'\""
   ]
  },
  {
   "cell_type": "code",
   "execution_count": 32,
   "metadata": {},
   "outputs": [],
   "source": [
    "coleccion = list()\n",
    "for fila in range(len(df)):\n",
    "    coleccion.append([convertir_clave_valor((columnas[columna], df.iloc[fila,columna])) for columna in range(len(columnas))])\n",
    "    #coleccion = {convertir_clave_valor(clave_valor) for clave_valor in coleccion}"
   ]
  },
  {
   "cell_type": "code",
   "execution_count": 33,
   "metadata": {},
   "outputs": [],
   "source": [
    "f = open (output_path + output_file,'w')\n"
   ]
  },
  {
   "cell_type": "code",
   "execution_count": 34,
   "metadata": {},
   "outputs": [],
   "source": [
    "f.write(\"[  \\r\")\n",
    "for cole in coleccion:\n",
    "    f.write(\"  {\\r\")\n",
    "    for i in range(len(cole)):\n",
    "        f.write(\"   \" + cole[i] + \"\\r\")\n",
    "    if i == len(cole) - 1:\n",
    "        f.write(\"  },\\r\")\n",
    "    else :\n",
    "        f.write(\"  }\\r\")\n",
    "f.write(\"]  \\r\")\n",
    "f.close()"
   ]
  },
  {
   "cell_type": "code",
   "execution_count": 29,
   "metadata": {},
   "outputs": [
    {
     "name": "stdout",
     "output_type": "stream",
     "text": [
      "Entero\n"
     ]
    }
   ],
   "source": [
    "var = 6\n",
    "\n",
    "if type(var) == int:\n",
    "    print('Entero')"
   ]
  },
  {
   "cell_type": "code",
   "execution_count": null,
   "metadata": {},
   "outputs": [],
   "source": []
  }
 ],
 "metadata": {
  "kernelspec": {
   "display_name": "Parket-to-Json",
   "language": "python",
   "name": "python3"
  },
  "language_info": {
   "codemirror_mode": {
    "name": "ipython",
    "version": 3
   },
   "file_extension": ".py",
   "mimetype": "text/x-python",
   "name": "python",
   "nbconvert_exporter": "python",
   "pygments_lexer": "ipython3",
   "version": "3.12.3"
  }
 },
 "nbformat": 4,
 "nbformat_minor": 2
}
